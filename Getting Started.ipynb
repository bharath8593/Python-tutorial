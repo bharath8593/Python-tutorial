{
 "cells": [
  {
   "cell_type": "markdown",
   "metadata": {
    "slideshow": {
     "slide_type": "slide"
    }
   },
   "source": [
    "# Getting Started"
   ]
  },
  {
   "cell_type": "markdown",
   "metadata": {
    "slideshow": {
     "slide_type": "skip"
    }
   },
   "source": [
    "<hr>"
   ]
  },
  {
   "cell_type": "markdown",
   "metadata": {
    "slideshow": {
     "slide_type": "slide"
    }
   },
   "source": [
    "## What is Python?\n",
    "Python is a general-purpose programming language, which is another way to say that it can be <font color=\"red\">used for nearly everything</font>.  \n",
    "Python is relatively simple, so it's easy to learn since it requires a unique syntax that focuses on readability."
   ]
  },
  {
   "cell_type": "markdown",
   "metadata": {
    "slideshow": {
     "slide_type": "fragment"
    }
   },
   "source": [
    "- created in 1991, by Guido van Rossum.\n",
    "- free\n",
    "- opensource [cpython](https://github.com/python/cpython)\n",
    "- massive resource base\n",
    "- one of Google's favourite languages"
   ]
  },
  {
   "cell_type": "markdown",
   "metadata": {
    "slideshow": {
     "slide_type": "subslide"
    }
   },
   "source": [
    "### It is\n",
    "- dynamically typed\n",
    "- interpreted\n",
    "- easy to write\n",
    "- a lot less code than many other widely used languages\n"
   ]
  },
  {
   "cell_type": "markdown",
   "metadata": {
    "slideshow": {
     "slide_type": "subslide"
    }
   },
   "source": [
    "## It is used in\n",
    "- Web Development (Django, Flask)\n",
    "- GUI Development (Kivy, tkinter)\n",
    "- Scientific and Numeric (SciPy, Pandas)\n",
    "- Software Development (Buildbot, Trac)\n",
    "- System Administration (OpenStack, Salt)"
   ]
  },
  {
   "cell_type": "markdown",
   "metadata": {
    "slideshow": {
     "slide_type": "subslide"
    }
   },
   "source": [
    "## Did you think Python is only used in these fields?\n",
    "\n",
    "https://github.com/vinta/awesome-python\n",
    "\n",
    "This is a curated list of awesome Python frameworks, libraries, software and resources."
   ]
  },
  {
   "cell_type": "markdown",
   "metadata": {
    "slideshow": {
     "slide_type": "skip"
    }
   },
   "source": [
    "<hr>"
   ]
  },
  {
   "cell_type": "markdown",
   "metadata": {
    "slideshow": {
     "slide_type": "slide"
    }
   },
   "source": [
    "## Installation\n",
    "\n",
    "- It can be downloaded from [here](www.python.org)\n",
    "- Latest version: Python 3.7.0"
   ]
  },
  {
   "cell_type": "markdown",
   "metadata": {
    "slideshow": {
     "slide_type": "slide"
    }
   },
   "source": [
    "## Windows\n",
    "\n",
    "### Setting up PATH in Windows \n",
    "##### TODO"
   ]
  },
  {
   "cell_type": "markdown",
   "metadata": {
    "slideshow": {
     "slide_type": "slide"
    }
   },
   "source": [
    "## Linux\n",
    "\n",
    "### Duh! You already have it!\n",
    "Open up a terminal and type in python to launch the interactive python shell."
   ]
  },
  {
   "cell_type": "markdown",
   "metadata": {
    "slideshow": {
     "slide_type": "skip"
    }
   },
   "source": [
    "<hr>"
   ]
  },
  {
   "cell_type": "markdown",
   "metadata": {
    "slideshow": {
     "slide_type": "slide"
    }
   },
   "source": [
    "## Some advanced configuration options for Windows users"
   ]
  },
  {
   "cell_type": "markdown",
   "metadata": {
    "slideshow": {
     "slide_type": "slide"
    }
   },
   "source": [
    "## Python2 vs Python3\n",
    "### Which version to install and how to configure?"
   ]
  },
  {
   "cell_type": "markdown",
   "metadata": {
    "slideshow": {
     "slide_type": "fragment"
    }
   },
   "source": [
    "It is recomended that you install and use Python 3.  \n",
    "Python 2.7 will retire in [pythonclock](http://pythonclock.org/)"
   ]
  },
  {
   "attachments": {
    "image.png": {
     "image/png": "[encoded data removed]"
    }
   },
   "cell_type": "markdown",
   "metadata": {
    "slideshow": {
     "slide_type": "subslide"
    }
   },
   "source": [
    "## In Linux\n",
    "You get python2 and python3 both and this is how.  \n",
    "![image.png](attachment:image.png)"
   ]
  },
  {
   "cell_type": "markdown",
   "metadata": {
    "slideshow": {
     "slide_type": "subslide"
    }
   },
   "source": [
    "## In Windows\n",
    "The executable files for both versions of python are `python.exe`, which is why we can't use python3 to get python3.  \n",
    "\n",
    "However, if you want to install and use both versions of Python, you can go to [this stackoverflow answer](https://stackoverflow.com/a/50349883/4502878) and follow the steps to configure your windows environment to work with both versions."
   ]
  }
 ],
 "metadata": {
  "kernelspec": {
   "display_name": "Python 3",
   "language": "python",
   "name": "python3"
  },
  "language_info": {
   "codemirror_mode": {
    "name": "ipython",
    "version": 3
   },
   "file_extension": ".py",
   "mimetype": "text/x-python",
   "name": "python",
   "nbconvert_exporter": "python",
   "pygments_lexer": "ipython3",
   "version": "3.7.0"
  },
  "livereveal": {
   "scroll": true,
   "theme": "sky"
  }
 },
 "nbformat": 4,
 "nbformat_minor": 2
}
