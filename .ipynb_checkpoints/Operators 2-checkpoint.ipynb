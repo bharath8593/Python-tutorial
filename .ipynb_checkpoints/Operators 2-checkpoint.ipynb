{
 "cells": [
  {
   "cell_type": "markdown",
   "metadata": {},
   "source": [
    "## Arithmetic operators"
   ]
  },
  {
   "cell_type": "code",
   "execution_count": 11,
   "metadata": {},
   "outputs": [],
   "source": [
    "x, y = 5, 3"
   ]
  },
  {
   "cell_type": "code",
   "execution_count": 12,
   "metadata": {},
   "outputs": [],
   "source": [
    "s = x + y\n",
    "d = x - y\n",
    "p = x * y\n",
    "q = x / y\n",
    "qf = x // y\n",
    "r = x % y\n",
    "e = x ** y"
   ]
  },
  {
   "cell_type": "code",
   "execution_count": 14,
   "metadata": {},
   "outputs": [
    {
     "name": "stdout",
     "output_type": "stream",
     "text": [
      "x =  5\n",
      "y =  3\n",
      "sum        = 8\n",
      "difference = 2\n",
      "product    = 15\n",
      "divide     = 1.6666666666666667\n",
      "quotient   = 1\n",
      "remainder  = 2\n",
      "power      = 125\n"
     ]
    }
   ],
   "source": [
    "print('x = ', x)\n",
    "print('y = ', y)\n",
    "print('sum        =', s)\n",
    "print('difference =', d)\n",
    "print('product    =', p)\n",
    "print('divide     =', q)\n",
    "print('quotient   =', qf)\n",
    "print('remainder  =', r)\n",
    "print('power      =', e)"
   ]
  },
  {
   "cell_type": "markdown",
   "metadata": {},
   "source": [
    "<hr>"
   ]
  },
  {
   "cell_type": "code",
   "execution_count": null,
   "metadata": {},
   "outputs": [],
   "source": []
  },
  {
   "cell_type": "code",
   "execution_count": null,
   "metadata": {},
   "outputs": [],
   "source": []
  },
  {
   "cell_type": "code",
   "execution_count": null,
   "metadata": {},
   "outputs": [],
   "source": []
  }
 ],
 "metadata": {
  "celltoolbar": "Slideshow",
  "kernelspec": {
   "display_name": "Python 3",
   "language": "python",
   "name": "python3"
  },
  "language_info": {
   "codemirror_mode": {
    "name": "ipython",
    "version": 3
   },
   "file_extension": ".py",
   "mimetype": "text/x-python",
   "name": "python",
   "nbconvert_exporter": "python",
   "pygments_lexer": "ipython3",
   "version": "3.7.0"
  },
  "livereveal": {
   "scroll": true,
   "theme": "sky"
  }
 },
 "nbformat": 4,
 "nbformat_minor": 2
}
