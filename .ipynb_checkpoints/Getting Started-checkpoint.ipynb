{
 "cells": [
  {
   "cell_type": "markdown",
   "metadata": {
    "slideshow": {
     "slide_type": "slide"
    }
   },
   "source": [
    "# Getting Started"
   ]
  },
  {
   "cell_type": "markdown",
   "metadata": {
    "slideshow": {
     "slide_type": "slide"
    }
   },
   "source": [
    "## What is Python?\n",
    "Python is a general-purpose programming language, which is another way to say that it can be <font color=\"red\">used for nearly everything</font>.  \n",
    "Python is relatively simple, so it's easy to learn since it requires a unique syntax that focuses on readability."
   ]
  },
  {
   "cell_type": "markdown",
   "metadata": {
    "slideshow": {
     "slide_type": "fragment"
    }
   },
   "source": [
    "- created in 1991, by Guido van Rossum.\n",
    "- free\n",
    "- opensource [https://github.com/python/cpython]"
   ]
  },
  {
   "cell_type": "markdown",
   "metadata": {
    "slideshow": {
     "slide_type": "fragment"
    }
   },
   "source": [
    "### It is\n",
    "- dynamically typed\n",
    "- interpreted"
   ]
  },
  {
   "cell_type": "markdown",
   "metadata": {
    "slideshow": {
     "slide_type": "subslide"
    }
   },
   "source": [
    "## It is used in\n",
    "- Web Development (Django, Flask)\n",
    "- GUI Development (Kivy, tkinter)\n",
    "- Scientific and Numeric (SciPy, Pandas)\n",
    "- Software Development (Buildbot, Trac)\n",
    "- System Administration (OpenStack, Salt)"
   ]
  },
  {
   "cell_type": "markdown",
   "metadata": {
    "slideshow": {
     "slide_type": "subslide"
    }
   },
   "source": [
    "## Did you think Python is only used in these fields?\n",
    "\n",
    "https://github.com/vinta/awesome-python\n",
    "\n",
    "This is a curated list of awesome Python frameworks, libraries, software and resources."
   ]
  },
  {
   "cell_type": "markdown",
   "metadata": {
    "slideshow": {
     "slide_type": "slide"
    }
   },
   "source": [
    "## Installation\n",
    "\n",
    "- It can be downloaded from www.python.org\n",
    "- Latest version: Python 3.7.0"
   ]
  },
  {
   "cell_type": "markdown",
   "metadata": {
    "slideshow": {
     "slide_type": "slide"
    }
   },
   "source": [
    "## Windows\n",
    "\n",
    "### Setting up PATH in Windows \n",
    "##### TODO"
   ]
  },
  {
   "cell_type": "markdown",
   "metadata": {
    "slideshow": {
     "slide_type": "slide"
    }
   },
   "source": [
    "## Linux\n",
    "\n",
    "### Duh! You already have it!\n",
    "Open up a terminal and type in python to launch the interactive python shell."
   ]
  }
 ],
 "metadata": {
  "celltoolbar": "Slideshow",
  "kernelspec": {
   "display_name": "Python 3",
   "language": "python",
   "name": "python3"
  },
  "language_info": {
   "codemirror_mode": {
    "name": "ipython",
    "version": 3
   },
   "file_extension": ".py",
   "mimetype": "text/x-python",
   "name": "python",
   "nbconvert_exporter": "python",
   "pygments_lexer": "ipython3",
   "version": "3.7.0"
  },
  "livereveal": {
   "scroll": true,
   "theme": "sky"
  }
 },
 "nbformat": 4,
 "nbformat_minor": 2
}
